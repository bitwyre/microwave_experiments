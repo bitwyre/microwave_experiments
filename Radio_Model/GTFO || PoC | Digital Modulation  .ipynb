{
 "cells": [
  {
   "cell_type": "markdown",
   "metadata": {},
   "source": [
    "#  GTFO || PoC :  How to design Wireless Physical Layer Network Coding\n",
    "\n",
    "> Insanity is doing the same thing over and over again and expecting different results \n",
    "\n",
    "\n",
    "##### Bitywayre Project X M.Dzakwan Falih (C) 2020"
   ]
  },
  {
   "cell_type": "markdown",
   "metadata": {},
   "source": [
    "Principles of physical layer coding and signal pro- cessing that fully respect and utilize knowledge of the structure of a wireless network. This technique substantially increases the overall network throughput, efficiency, and reliability. \n",
    "\n",
    "Wireless Physical Layer Network Coding (WPNC) (a.k.a. Physical Layer Network Coding (PLNC)) is a general framework for physical (PHY) layer coding and processing strategies in which PHY behavior at a given node depends on its position in the network topology, and the signal-level processing/decoding exploits multiple paths between source and destination. "
   ]
  },
  {
   "cell_type": "markdown",
   "metadata": {},
   "source": [
    ">For designing your digital signal processing system, you need to know about (analog) filter design, the characteristics of anti-aliasing and reconstruction filters, and about limitations of the signal processing like bandwidth and noise of the analog parts and, for the digital parts, sampling frequency and quantisation.\n",
    "\n",
    "![alt text](dsp.png \"Distance\")"
   ]
  },
  {
   "cell_type": "markdown",
   "metadata": {},
   "source": [
    "# Elements of Digital Communication\n",
    " "
   ]
  },
  {
   "cell_type": "markdown",
   "metadata": {},
   "source": [
    "![alt text](digital.png \"element digital communication\")"
   ]
  },
  {
   "cell_type": "markdown",
   "metadata": {},
   "source": [
    "1. The **Information source** can be an analog signal. Example: A Sound signal\n",
    "\n",
    "2. **Input Transducer**\n",
    "This is a transducer which takes a physical input and converts it to an electrical signal (Example: microphone). This block also consists of an analog to digital converter where a digital signal is needed for further processes.\n",
    "A digital signal is generally represented by a binary sequence.\n",
    "\n",
    "3. **Source Encoder**\n",
    "The source encoder compresses the data into minimum number of bits. This process helps in effective utilization of the bandwidth. It removes the redundant bits unnecessaryexcessbits,i.e.,zeroes\n",
    "\n",
    "4. **Channel Encoder**\n",
    "The channel encoder, does the coding for error correction. During the transmission of the signal, due to the noise in the channel, the signal may get altered and hence to avoid this, the channel encoder adds some redundant bits to the transmitted data. These are the error correcting bits.\n",
    "\n",
    "5. **Digital Modulator**\n",
    "The signal to be transmitted is modulated here by a carrier. The signal is also converted to analog from the digital sequence, in order to make it travel through the channel or medium.\n",
    "\n",
    "6. **Channel**\n",
    "The channel or a medium, allows the analog signal to transmit from the transmitter end to the receiver end.\n",
    "\n",
    "7. **Digital Demodulator**\n",
    "This is the first step at the receiver end. The received signal is demodulated as well as converted again from analog to digital. The signal gets reconstructed here.\n",
    "\n",
    "9. **Channel Decoder**\n",
    "The channel decoder, after detecting the sequence, does some error corrections. The distortions which might occur during the transmission, are corrected by adding some redundant bits. This addition of bits helps in the complete recovery of the original signal.\n",
    "\n",
    "10. **Source Decoder**\n",
    "The resultant signal is once again digitized by sampling and quantizing so that the pure digital output is obtained without the loss of information. The source decoder recreates the source output.\n",
    "\n",
    "11. **Output Transducer**\n",
    "This is the last block which converts the signal into the original physical form, which was at the input of the transmitter. It converts the electrical signal into physical output (Example: loud speaker).\n",
    "\n",
    "12. **Output Signal**\n",
    "This is the output which is produced after the whole process. Example − The sound signal received.\n",
    "This unit has dealt with the introduction, the digitization of signals, the advantages and the elements of digital communications. In the coming chapters, we will learn about the concepts of Digital communications, in detail.\n",
    "\n"
   ]
  },
  {
   "cell_type": "markdown",
   "metadata": {},
   "source": [
    "# What is modulation?\n",
    "\n",
    "> In electronics and telecommunications, **modulation is the process of varying one or more properties of a periodic waveform, called the carrier signal, with a modulating signal that typically contains information to be transmitted.**"
   ]
  },
  {
   "cell_type": "markdown",
   "metadata": {},
   "source": [
    "## Why digital ?"
   ]
  },
  {
   "cell_type": "markdown",
   "metadata": {},
   "source": [
    "1. As all transmission line and circuits have some noneideal frequency transfer function, there is a distortion effect on the ideal pulse.\n",
    "2. unwanted electrical noise or other interference further distorts the pulse waveform. both of these mechanisms cuase the pulse shape to degreade as function of line length. \n",
    "3. Digital circuit are less subject to distortion and interference than are analog circuit. Because binary digital circuits operate in one of two states-fully on or full off-to meaningful."
   ]
  },
  {
   "cell_type": "markdown",
   "metadata": {},
   "source": [
    "# Why is it important to understand basic digital communication ?\n",
    "\n",
    "Before creating a system at GNU Radio, the concept is to first understand the basics of a digital communication system. some terms in gnuradio use a lot of digital communication terms.\n",
    " \n",
    "\n",
    "GNU Radio comes with a large set of existing blocks: \n",
    "\n",
    "## Waveform Generators\n",
    "1. Constant Source\n",
    "2. Noise Source\n",
    "3. Signal Source (e.g. Sine, Square, Saw Tooth)\n",
    "\n",
    "## Modulators\n",
    "1. AM Demod\n",
    "2. Continuous Phase Modulation\n",
    "3. PSK Mod / Demod\n",
    "4. GFSK Mod / Demod\n",
    "5. GMSK Mod / Demod\n",
    "6. QAM Mod / Demod\n",
    "7. WBFM Receive\n",
    "8. NBFM Receive\n",
    "\n",
    "## Instrumentation (i.e., GUIs)\n",
    "1. Constellation Sink\n",
    "2. Frequency Sink\n",
    "3. Histogram Sink\n",
    "4. Number Sink\n",
    "5. Time Raster Sink\n",
    "6. Time Sink\n",
    "7. Waterfall Sink\n",
    "\n",
    "## Math Operators\n",
    "1. Abs\n",
    "2. Add\n",
    "3. Complex Conjugate\n",
    "4. Divide\n",
    "5. Integrate\n",
    "6. Log10\n",
    "7. Multiply\n",
    "8. RMS\n",
    "9. Subtract\n",
    "\n",
    "## Channel Models\n",
    "1. Channel Model\n",
    "2. Fading Model\n",
    "3. Dynamic Channel Model\n",
    "4. Frequency Selective Fading Model\n",
    "\n",
    "## Filters\n",
    "1. Band Pass / Reject Filter\n",
    "2. Low / High Pass Filter\n",
    "3. IIR Filter\n",
    "4. Generic Filterbank\n",
    "5. Hilbert\n",
    "6. Decimating FIR Filter\n",
    "7. Root Raised Cosine Filter\n",
    "8. FFT Filter\n",
    "\n",
    "## Fourier Analysis\n",
    "1. FFT\n",
    "2. Log Power FFT\n",
    "3. Goertzel (Resamplers)\n",
    "4. Fractional Resampler\n",
    "5. Polyphase Arbitrary Resampler\n",
    "6. Rational Resampler (Synchronizers)\n",
    "7. Clock Recovery MM\n",
    "8. Correlate and Sync\n",
    "9. Costas Loop\n",
    "10. FLL Band-Edge\n",
    "11. PLL Freq Det\n",
    "12. PN Correlator\n",
    "13 Polyphase Clock Sync"
   ]
  },
  {
   "cell_type": "markdown",
   "metadata": {},
   "source": [
    "# Fundamental digital modulation methods\n",
    "\n",
    "1. PSK (phase-shift keying): a finite number of phases are used.\n",
    "2. FSK (frequency-shift keying): a finite number of frequencies are used.\n",
    "3. ASK (amplitude-shift keying): a finite number of amplitudes are used.\n",
    "4. QAM (quadrature amplitude modulation): a finite number of at least two phases and at least two amplitudes are used"
   ]
  },
  {
   "cell_type": "markdown",
   "metadata": {},
   "source": [
    "## What is PSK?\n",
    "\n",
    "Phase-shift keying (PSK) is a digital modulation process which conveys data by changing (modulating) the phase of a constant frequency reference signal (the carrier wave). The modulation is accomplished by varying the sine and cosine inputs at a precise time. \n",
    "\n",
    "Any digital modulation scheme uses a finite number of distinct signals to represent digital data. PSK uses a finite number of phases, each assigned a unique pattern of binary digits. Usually, each phase encodes an equal number of bits. Each pattern of bits forms the symbol that is represented by the particular phase. The demodulator, which is designed specifically for the symbol-set used by the modulator, determines the phase of the received signal and maps it back to the symbol it represents, thus recovering the original data. This requires the receiver to be able to compare the phase of the received signal to a reference signal – such a system is termed coherent (and referred to as CPSK)."
   ]
  },
  {
   "cell_type": "code",
   "execution_count": null,
   "metadata": {},
   "outputs": [],
   "source": []
  },
  {
   "cell_type": "code",
   "execution_count": 4,
   "metadata": {},
   "outputs": [
    {
     "data": {
      "image/png": "[encoded data removed]",
      "text/plain": [
       "<Figure size 432x288 with 1 Axes>"
      ]
     },
     "metadata": {
      "needs_background": "light"
     },
     "output_type": "display_data"
    }
   ],
   "source": []
  },
  {
   "cell_type": "code",
   "execution_count": null,
   "metadata": {},
   "outputs": [],
   "source": []
  },
  {
   "cell_type": "code",
   "execution_count": null,
   "metadata": {},
   "outputs": [],
   "source": []
  }
 ],
 "metadata": {
  "kernelspec": {
   "display_name": "Python 3",
   "language": "python",
   "name": "python3"
  },
  "language_info": {
   "codemirror_mode": {
    "name": "ipython",
    "version": 3
   },
   "file_extension": ".py",
   "mimetype": "text/x-python",
   "name": "python",
   "nbconvert_exporter": "python",
   "pygments_lexer": "ipython3",
   "version": "3.8.3"
  }
 },
 "nbformat": 4,
 "nbformat_minor": 4
}
