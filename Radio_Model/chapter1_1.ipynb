{
 "cells": [
  {
   "cell_type": "markdown",
   "metadata": {},
   "source": [
    "# Chapter1, Review of Electromagnetics and Transmission Lines"
   ]
  },
  {
   "cell_type": "markdown",
   "metadata": {},
   "source": [
    "## Example No. 1.1.1, page 1-3"
   ]
  },
  {
   "cell_type": "code",
   "execution_count": 3,
   "metadata": {},
   "outputs": [
    {
     "name": "stdout",
     "output_type": "stream",
     "text": [
      "At 100kHz, wavelength = 3 km \n",
      "At 1MHz, wavelength = 300 m \n",
      "At 10MHz, wavelength = 30 m \n"
     ]
    }
   ],
   "source": [
    "from __future__ import division\n",
    "f1=100 #kHz\n",
    "f2=1 #MHz\n",
    "f3=10 #MHz\n",
    "c=3*10**8 #m/s\n",
    "lamda1=c/(f1*10**3) #m\n",
    "lamda2=c/(f2*10**6) #m\n",
    "lamda3=c/(f3*10**6) #m\n",
    "print \"At 100kHz, wavelength = %0.f km \" %(lamda1/1000) \n",
    "print \"At 1MHz, wavelength = %0.f m \" %lamda2 \n",
    "print \"At 10MHz, wavelength = %0.f m \"%lamda3"
   ]
  }
 ],
 "metadata": {
  "kernelspec": {
   "display_name": "Python 3",
   "language": "python",
   "name": "python3"
  },
  "language_info": {
   "codemirror_mode": {
    "name": "ipython",
    "version": 3
   },
   "file_extension": ".py",
   "mimetype": "text/x-python",
   "name": "python",
   "nbconvert_exporter": "python",
   "pygments_lexer": "ipython3",
   "version": "3.8.3"
  }
 },
 "nbformat": 4,
 "nbformat_minor": 1
}
