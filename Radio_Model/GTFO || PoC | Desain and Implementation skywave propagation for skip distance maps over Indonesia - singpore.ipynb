{
 "cells": [
  {
   "cell_type": "markdown",
   "metadata": {},
   "source": [
    "#  GTFO || PoC :  Planning Skip Disantance and MuF\n",
    "\n",
    "> Planning a Microwave Link: It’s Not Just Line of Sight!\n",
    "\n",
    "\n",
    "##### Bitywayre Project X M.Dzakwan Falih (C) 2020"
   ]
  },
  {
   "cell_type": "markdown",
   "metadata": {},
   "source": [
    "# Project  Planning"
   ]
  },
  {
   "cell_type": "markdown",
   "metadata": {},
   "source": [
    "## Advantages of Microwave Communication over Fiber Optic\n",
    "\n",
    "1. Microwave link is possible to deploy in a day.\n",
    "\n",
    "2. Microwave link is flexible in the capacity that can be increase effortlessly at negligible or even no cost. Moreover, microwave radio link can be reinstalled depending on the customer requirement or if network demands changes. Therefore, loosing clients does not make a sense that assets are lost as in case of fiber optic.\n",
    "\n",
    "3. Microwave is easily crossable in terrain areas. Whereas, in various metropolitan cities and authorities, road digging is totally banned to deploy fiber optic or prohibited or even expensive.\n",
    "\n",
    "4. Microwave radio infrastructure is owned by operator therefore, no dependence on competitors.\n",
    "\n",
    "5. Microwave radio infrastructure is already available for various networks in the shape of rooftops, cellular poles and residing towers of microwave radio transmission.\n",
    "\n",
    "6. Microwave radio systems are not inclined to common disastrous breakdown of fiber cable systems occurred by cable cuts, it may be fixed in no time rather than waiting for hours or days.\n",
    "\n",
    "7. It is controllable in the time of natural disasters for example flood, earthquakes.\n",
    "\n",
    "8. Operational cost is minimal recurring"
   ]
  },
  {
   "cell_type": "markdown",
   "metadata": {},
   "source": [
    "## Microwave Disadvantages\n",
    "\n",
    "Microwave radio offers various disadvantages as well over different circumstances. Following are the disadvantages:\n",
    "    1. Microwave subject to Radio Interference from different environmental factors such as:\n",
    "    \n",
    "    (-) Thermal Inversion – a setback of the normal reduction of air temperature above sea level\n",
    "    (-) Passing Airplanes, birds and rain\n",
    "    (-) Microwave towers, repeaters and other equipment are very much expensive as compare to fiber optic\n",
    "    \n",
    "    2. Microwave networks required maintenance because if a healthy planned, correctly implement network with  quality equipment are not installed by good reputed vendor then maintenance required for longer run"
   ]
  },
  {
   "cell_type": "markdown",
   "metadata": {},
   "source": [
    "### Parameter D:  Distance Jakarta -> singapore\n"
   ]
  },
  {
   "cell_type": "markdown",
   "metadata": {},
   "source": [
    "![alt text](jkt-sg.png \"Distance\")\n",
    "\n",
    "**Distance**: 564.35 mi (908.23 km)"
   ]
  },
  {
   "cell_type": "markdown",
   "metadata": {},
   "source": [
    "### Parameter D (Options 2) → (-2.403689301926682,106.13901955195729) Babel → Singapore, SGP"
   ]
  },
  {
   "cell_type": "markdown",
   "metadata": {},
   "source": [
    "![alt text](jkt-sg-btm.png \"Distance\")\n",
    "\n",
    "**Total Distance**   : 567.94 mi (914.00 km\\\n",
    "**Distance JKT-BTM** : 267.64 mi (430.73 km)\\\n",
    "**Distance BABEL-SG**  : Distance: 300.30 mi (483.28 km) "
   ]
  },
  {
   "cell_type": "markdown",
   "metadata": {},
   "source": [
    "### Modeling Skip distance  JKT - SG"
   ]
  },
  {
   "cell_type": "markdown",
   "metadata": {},
   "source": [
    "## Type of Propagtions\n",
    "\n",
    "![alt text](propagations.png \"Propagations\")"
   ]
  },
  {
   "cell_type": "code",
   "execution_count": null,
   "metadata": {},
   "outputs": [],
   "source": []
  },
  {
   "cell_type": "markdown",
   "metadata": {},
   "source": [
    "## What is Skywave propagtion?\n",
    "\n",
    "Skywave propagation also known as the skip is a type of radio wave propagation. It is either the reflected or refracted back waves to the earth from the ionosphere which is an electrically charged layer of the upper atmosphere.\n",
    "\n",
    "Medium and shortwave frequencies can be refracted back to earth which is beyond the horizon which makes them useful in the transcontinental transmission of the waves. Following is the table explaining the distribution of frequencies MUF (maximum usable frequency) and OWF (optimum working frequency) depending upon the layers of the earth:"
   ]
  },
  {
   "cell_type": "markdown",
   "metadata": {},
   "source": [
    " \n",
    "\n",
    "|    <div style=\"width:200px\">Layer</div>  | <div style=\"width:200px\"> D </div>      | <div style=\"width:200px\"> E   </div>        |  <div style=\"width:200px\"> F1 </div>    |   \n",
    "|------------|-------------|--------------|---------|\n",
    "|  MUF (Mhz) | 16          | 28           | 16      |   \n",
    "|  OWF (Mhz) | 13.6        | 23.8         | 13.6    |    \n",
    "\n",
    "\n"
   ]
  },
  {
   "cell_type": "markdown",
   "metadata": {},
   "source": [
    "![alt text](swp.png \"Skip Distance Modeling\")"
   ]
  },
  {
   "cell_type": "markdown",
   "metadata": {},
   "source": [
    "### How to calculate P (power) Watt for Transmitter"
   ]
  },
  {
   "cell_type": "code",
   "execution_count": 10,
   "metadata": {},
   "outputs": [
    {
     "name": "stdout",
     "output_type": "stream",
     "text": [
      "Transmitter power required in W: 11475027657737.07\n"
     ]
    }
   ],
   "source": [
    "from __future__ import division\n",
    "from math import atan,degrees,sqrt,cos,pi,sin,exp,radians\n",
    "\n",
    "#variable Declaration\n",
    "\n",
    "f = 30             #frequency in MHz\n",
    "f = 30*10**6       #frequency in Hz\n",
    "E = 0.5            #electric field in mV/m\n",
    "E = 0.5*10**(-3)   # electric field in V/m\n",
    "sigma = 5*10**-5   # conductivity in mho/cm\n",
    "eta = 0.5          # efficiency\n",
    "epsilon_r = 10     # relative permittivity\n",
    "c = 3*10**8        # speed of light in m/s\n",
    "lamda = c/f        # wavelength in m\n",
    "d = 908.23         # distance in km\n",
    "d = 908.23*10**3   # distance in m\n",
    "\n",
    "#calculations\n",
    "Df = 1.8*10**12*(sigma/f)             # dissipation factor\n",
    "b = atan((epsilon_r+1)/Df)*180/pi     # phase constant in degrees\n",
    "p = (pi/Df)*(d/lamda)*cos(radians(b)) # numerical distance\n",
    "A = ((2+0.3*p)/(2+p+0.6*p**2))-((sin(radians(b))*(sqrt(p/2)*(exp((-5*p)/8))))) # factor of the ground losses\n",
    "\n",
    "# formula: E = (A*E_not)/d\n",
    "#E_not = 300*sqrt(P_kW)                 # E_not is in mV/m\n",
    "#E_not = 300*sqrt(P_kW)*10**(-3)        # E_not is in V/m\n",
    "P_kW = ((E*d*10**-3)/(A*300*10**-3))**2 # Power in kW and d is in km\n",
    "\n",
    "# formula : P = Ptx*eta\n",
    "Ptx = P_kW/eta #transmitter power required in kW\n",
    "\n",
    "\n",
    "#result\n",
    "print (\"Transmitter power required in W:\",round(Ptx*1000,2))\n"
   ]
  },
  {
   "cell_type": "markdown",
   "metadata": {},
   "source": [
    "###  Find Critical Angle "
   ]
  },
  {
   "cell_type": "code",
   "execution_count": 15,
   "metadata": {},
   "outputs": [
    {
     "name": "stdout",
     "output_type": "stream",
     "text": [
      "critical angle of propagation in degrees: 15.642\n",
      "critical angle of propagation in degrees by method 2: 15.642\n"
     ]
    }
   ],
   "source": [
    "# Find Critical Angle \n",
    "\n",
    "from __future__ import division\n",
    "from math import sqrt,asin,atan,pi\n",
    "\n",
    "#variable Declaration\n",
    "d=500 # distance between transmitter and receiver in km\n",
    "h=70  # height of D layer in km\n",
    "\n",
    "#calculations\n",
    "theta_c = asin(h/(sqrt(h**2+(d**2/4))))*180/pi # critical angle in degrees\n",
    "\n",
    "#result\n",
    "print (\"critical angle of propagation in degrees:\",round(theta_c,3))\n",
    "\n",
    "\n",
    "#it can also be calculated from\n",
    "theta_c = atan((2*h/d))*180/pi # critical angle in degrees\n",
    "print (\"critical angle of propagation in degrees by method 2:\",round(theta_c,3))"
   ]
  },
  {
   "cell_type": "markdown",
   "metadata": {},
   "source": [
    "### What is skip disatance ?\n",
    "\n",
    "Skip distance is defined as the minimum distance from the earth’s surface and the point from where the radio signal is been transmitted. For a flat earth skip distance is given as:"
   ]
  },
  {
   "cell_type": "markdown",
   "metadata": {},
   "source": [
    "![alt text](https://www.electronics-notes.com/images/propagation-ionospheric-skip-distance-01.svg \"Skip Distance Modeling\")"
   ]
  },
  {
   "cell_type": "markdown",
   "metadata": {},
   "source": [
    "The skip distance is dependent upon a variety of factors:\n",
    "\n",
    "**Frequency**:   The frequency of operation has a major influence on the skip distance that can be achieved. Typically as the frequency increases a lower angle of radiation is needed to return the signals to Earth in a shorter distance. Also higher frequencies tend to be reflected or refracted by higher layers or regions in the ionosphere. This will mean that higher frequencies tend to lead to longer skip distances.\n",
    "\n",
    "**Ionospheric conditions**: The ionospheric conditions play a major role in governing the skip distance. Under some circumstances when ionisation levels are high it may be possible for signals to achieve very short skip distances.\n",
    "\n",
    "\n",
    "**Angle of radiation**:   The angle of radiation from the transmitting antenna will also have an impact on the skip distance. A lower angle of radiation will lead to longer skip distances as a result of the geometry."
   ]
  },
  {
   "cell_type": "markdown",
   "metadata": {},
   "source": [
    "### What is Critical frequency?\n",
    "\n",
    "Critical frequency is defined as the maximum frequency at which the total internal reflection takes place from the ionosphere. \n",
    "\n",
    "The mathematical representation is given as:\n",
    "\n",
    "$F_{cr}$ = $9 \\sqrt{N_{max}}$    $~~~~~~~~~~~$ (1) \n",
    "\n",
    "where: \n",
    "\n",
    "$f_{cr}$ = critical frequency in Hz\n",
    "\n",
    "$N_{max}$ = maximum electron density per m3"
   ]
  },
  {
   "cell_type": "code",
   "execution_count": null,
   "metadata": {},
   "outputs": [],
   "source": [
    "# Calculate critical frequency \n",
    "\n",
    "from math import sqrt\n",
    "\n",
    "#Variable declaration\n",
    "N_E = 0.8*0.111e12   #Concentration of electrons in E layer (per cubic cm)\n",
    "N_F1 = 0.8*0.3086e12 #Concentration of electrons in E layer (per cubic cm)\n",
    "N_F2 = 0.8*1e12      #Concentration of electrons in E layer (per cubic cm)\n",
    "\n",
    "#Calculations\n",
    "fE = 9*sqrt(N_E)    #Critical frequency in E layer (Hz)\n",
    "fF1 = 9*sqrt(N_F1)  #Cricital frequency in F1 layer (Hz)\n",
    "fF2 = 9*sqrt(N_F2)  #Critical frequency in F2 layer (Hz)\n",
    "\n",
    "#Result\n",
    "print \"The Critical frequency in E layer is\", round(fE,-4),\"Hz\"\n",
    "print \"The Critical frequency in F1 layer is\", round(fF1,-4),\"Hz\"\n",
    "print \"The Critical frequency in F2 layer is\", round(fF2,-3),\"Hz\""
   ]
  },
  {
   "cell_type": "markdown",
   "metadata": {},
   "source": [
    "### MuF Formula \n",
    "\n",
    "$f_{muf}$ = $f_{cr} \\sqrt { 1 + \\frac {D^2} {4h^2} }$    $~~~~~~~~~~~$ (2) \n",
    "\n",
    "where: \n",
    "\n",
    "\n",
    "$f_{muf}$ = Maxsimum usable frequency\n",
    "\n",
    "$f_{cr}$ = Critical frequency of the layer of ionosphare\n",
    "\n",
    "$h$      = height at which reflection occurs\n",
    "\n",
    "$D$      = Distance \n",
    "\n",
    "\n"
   ]
  },
  {
   "cell_type": "code",
   "execution_count": 11,
   "metadata": {},
   "outputs": [
    {
     "name": "stdout",
     "output_type": "stream",
     "text": [
      "maximum usable frequency in MHz: 26.306\n"
     ]
    }
   ],
   "source": [
    "from __future__ import division\n",
    "from math import sqrt\n",
    "\n",
    "#variable Declaration\n",
    "d = 2600       # distance between the points in Km\n",
    "d = 2600*10**3 # distance between the points in m\n",
    "fc = 4         # critical frequency in MHz\n",
    "fc = 4*10**6   # critical frequency in Hz\n",
    "h = 200        # height of ionospheric layer in km\n",
    "h = 200*10**3  # height of ionospheric layer in m\n",
    "\n",
    "\n",
    "#calculations\n",
    "MUF = fc*sqrt(1+(d/(2*h))**2) # maximum usable frequency   \n",
    "\n",
    "#result\n",
    "print (\"maximum usable frequency in MHz:\",round(MUF/10**6,3))\n"
   ]
  },
  {
   "cell_type": "markdown",
   "metadata": {},
   "source": [
    "### Skip Distance formula\n",
    "\n",
    "\n",
    "\n",
    "\n",
    "$D_{skip}$ = $2h\\sqrt{\\frac {f_{muf}}{f_{cr}}}$    \n",
    "\n",
    "where:\n",
    "\n",
    "\n",
    "$D_{skip}$ = Skip distance \n",
    "\n",
    "\n",
    "$h$ = Height at which reflection occurs\n",
    "\n",
    "\n",
    "$f_{muf}$ = Maxsimum usable frequency\n",
    "\n",
    "\n",
    "$f_{cr}$ = Critical frequency of the layer of ionosphare"
   ]
  },
  {
   "cell_type": "code",
   "execution_count": 26,
   "metadata": {},
   "outputs": [
    {
     "name": "stdout",
     "output_type": "stream",
     "text": [
      "The skip distance is 1238.8 km\n"
     ]
    }
   ],
   "source": [
    "# Skip distance \n",
    "from math import sqrt\n",
    "\n",
    "#Variable declaration\n",
    "muf = 10e6    # Maximum usable frequency (Hz)\n",
    "h = 300       # Height of reflection (km)\n",
    "n = 0.9       # Maximum value of refractive index (unitless)\n",
    "\n",
    "#Calculations\n",
    "Nmax = (1 - n**2)*(muf**2)/81        # Max. Number of electrons per cubic cm\n",
    "fc = 9*sqrt(Nmax)                    # Critical frequency (Hz)\n",
    "dskip = 2*h*sqrt((muf/fc)**2 - 1)    # Skip distance (km)\n",
    "\n",
    "\n",
    "#Result\n",
    "print (\"The skip distance is\", round(dskip,1), \"km\")\n",
    "\n",
    "#Numerical error in the calculation of sqrt((muf/fc)**2 - 1) "
   ]
  },
  {
   "cell_type": "code",
   "execution_count": null,
   "metadata": {},
   "outputs": [],
   "source": []
  }
 ],
 "metadata": {
  "kernelspec": {
   "display_name": "Python 3",
   "language": "python",
   "name": "python3"
  },
  "language_info": {
   "codemirror_mode": {
    "name": "ipython",
    "version": 3
   },
   "file_extension": ".py",
   "mimetype": "text/x-python",
   "name": "python",
   "nbconvert_exporter": "python",
   "pygments_lexer": "ipython3",
   "version": "3.8.3"
  }
 },
 "nbformat": 4,
 "nbformat_minor": 4
}
