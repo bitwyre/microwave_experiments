{
 "cells": [
  {
   "cell_type": "markdown",
   "metadata": {},
   "source": [
    "# GTFO || PoC :  HFT Radio Analysis\n",
    "\n",
    "> \"Making it from scratch doesn't mean you shouldn't learn the basic theory first\"\n",
    "\n",
    "##### Bitywayre Project X M.Dzakwan Falih (C) 2020"
   ]
  },
  {
   "cell_type": "markdown",
   "metadata": {},
   "source": [
    "# What is HFT ? "
   ]
  },
  {
   "cell_type": "markdown",
   "metadata": {},
   "source": [
    "High-Frequency Trading (HFT) platforms are typically implemented in software on computers with high performance network adapters. The high and unpredictable latency of these systems has led the trading world to explore alternative “hybrid” architectures with hardware acceleration.\n",
    "\n",
    "High-Frequency Trading (HFT) refers to rapid electronic trade in financial instruments. **Trading venues make current pricing information available as continuous streams of electronic data**. Traders monitor these streams, reconstructing pricing and demand for relevant stocks, options, futures and currencies to determine when and what to trade. Buy/Sell orders are then sent to the exchange as soon as possible. Algorithms take advantage of fleeting variations in stock price or demand over time or between different exchanges, accumulating profit by making tiny gains on large numbers of transactions.\n",
    "\n",
    "High Frequency Trading (HFT) is when a trader or institutions utilizes **technology and powerful computers to automate trading and execute large orders at very high speeds through the use of algorithms.**"
   ]
  },
  {
   "cell_type": "markdown",
   "metadata": {},
   "source": [
    "## Research Question about HFT \n",
    "\n",
    "1. How to design a modem for HFT?\n",
    "2. How do I create a communication block for the HFT?\n",
    "3. How to calculate sky wave propagation?\n",
    "4. Does the HFT use short waves or milli waves?\n",
    "5. How to predict the ionosphre angle to fit the distance?\n",
    "6. what parameters are used for HFT?"
   ]
  },
  {
   "cell_type": "markdown",
   "metadata": {},
   "source": [
    "## Basic Radio parameter\n",
    "\n",
    "### Power on desibel  formula\n",
    "\n"
   ]
  },
  {
   "cell_type": "code",
   "execution_count": 45,
   "metadata": {},
   "outputs": [
    {
     "name": "stdout",
     "output_type": "stream",
     "text": [
      "10.00 mW are equivalent to 10.00 dBm\n",
      "30.00 mW are equivalent to 14.77 dBm\n",
      "250.00 mW are equivalent to 23.98 dBm\n"
     ]
    }
   ],
   "source": [
    "### Calculate desibel \n",
    "\n",
    "from math import log10\n",
    "\n",
    "def mw_to_dbm(mW):\n",
    "    \"\"\"This function converts a power given in mW to a power given in dBm.\"\"\"\n",
    "    return 10.*log10(mW)\n",
    "\n",
    "def dbm_to_mw(dBm):\n",
    "    \"\"\"This function converts a power given in dBm to a power given in mW.\"\"\"\n",
    "    return 10**((dBm)/10.)\n",
    "\n",
    "print (\"%.2f mW are equivalent to %.2f dBm\" % (10, mw_to_dbm(10)))\n",
    "print (\"%.2f mW are equivalent to %.2f dBm\" % (30, mw_to_dbm(30)))\n",
    "print (\"%.2f mW are equivalent to %.2f dBm\" % (250, mw_to_dbm(250)))"
   ]
  },
  {
   "cell_type": "markdown",
   "metadata": {},
   "source": [
    " ### Wavelenght "
   ]
  },
  {
   "cell_type": "code",
   "execution_count": 27,
   "metadata": {},
   "outputs": [
    {
     "name": "stdout",
     "output_type": "stream",
     "text": [
      "At 100 kHz, wavelength = 3 km \n",
      "At 1 MHz  , wavelength = 300 m \n",
      "At 10 MHz , wavelength = 30 m \n"
     ]
    }
   ],
   "source": [
    "f1 = 100  #kHz\n",
    "f2 = 1    #MHz\n",
    "f3 = 10   #MHz\n",
    "\n",
    "c=3*10**8 #m/s\n",
    "\n",
    "lamda1=c/(f1*10**3) #m\n",
    "lamda2=c/(f2*10**6) #m\n",
    "lamda3=c/(f3*10**6) #m\n",
    "\n",
    "\n",
    "print (\"At 100 kHz, wavelength = %0.f km \" %(lamda1/1000)) \n",
    "print (\"At 1 MHz  , wavelength = %0.f m \" %lamda2)\n",
    "print (\"At 10 MHz , wavelength = %0.f m \"%lamda3)\n"
   ]
  },
  {
   "cell_type": "markdown",
   "metadata": {},
   "source": [
    "### Maxsimum distance formula"
   ]
  },
  {
   "cell_type": "code",
   "execution_count": 29,
   "metadata": {
    "scrolled": true
   },
   "outputs": [
    {
     "name": "stdout",
     "output_type": "stream",
     "text": [
      "Maximum Range in a single range transmission = 4401.31 km \n"
     ]
    }
   ],
   "source": [
    "from math import acos\n",
    "\n",
    "#given data :\n",
    "R=6370 #in Km\n",
    "hm=400 #in Km\n",
    "\n",
    "#Formula : d=2*R*Q=2*R*acos(R/(R+hm))\n",
    "d=2*R*acos(R/(R+hm)) #in Km\n",
    "print (\"Maximum Range in a single range transmission = %0.2f km \" %d) \n"
   ]
  },
  {
   "cell_type": "markdown",
   "metadata": {},
   "source": [
    "## Fact Delay in HTF\n",
    "\n",
    ">The **low latency** link may use high frequency (HF) radio waves to transmit over a propagation path between North America and Europe. **Radio waves may transmit, for example, with a one-way latency of 20 to 25 ms or les(40 to 50 ms roundtrip).**\n",
    "\n",
    ">A **higher latency** link may cary data over a diferent propagation path, or perhaps through a diferent medium between the same two continents that, for example, may have a latency of about **30 ms or more one-way, or 60 ms or more both ways**"
   ]
  },
  {
   "cell_type": "markdown",
   "metadata": {},
   "source": [
    "## Mean  Latency on HFT\n",
    "\n",
    "\"Latency\" generally refers to the time interval between a cause and and effect in a system. \n",
    "\n",
    "> Latency is physicaly a consequence of the limited Velocity with which any physical interaction can propagate throughout a system.\n",
    "\n",
    "> Latency is physicaly a conse quence of the limited velocity with which 60 any physical interaction can propagate. \n",
    "\n",
    ">The speed at which an efect can propagate through a system is always lower than or equal to the speed of light. \n",
    "\n",
    ">There for every physical system that includes some distance between the cause and the effect will experience some kind of latency."
   ]
  },
  {
   "cell_type": "markdown",
   "metadata": {},
   "source": [
    "### Low latency formula"
   ]
  },
  {
   "cell_type": "markdown",
   "metadata": {},
   "source": [
    "\"Low Latency\" generally refers to a period of time that is les than or about equal to a propagation time that is 10% greater than the time required for light to travel a given propagation path in a vacuum. Expressed as a formula, low latency is defined as folows:\n",
    "\n",
    "\n",
    "$latency_{low}  \\le \\frac{d}{c} .k $ &nbsp;&nbsp;&nbsp;&nbsp;&nbsp;&nbsp;&nbsp;&nbsp;&nbsp;&nbsp;&nbsp; (1) \n",
    "\n",
    "\n",
    "where:\\\n",
    "(Equation1)\\\n",
    "d = distance(miles)\\\n",
    "c = the speed of light in a vacuum (186,000 miles /sec)\\\n",
    "k = a scalar constant of 1.1"
   ]
  },
  {
   "cell_type": "markdown",
   "metadata": {},
   "source": [
    "#### Example \n",
    "\n",
    ">For example, light can travel 25,000 miles through a vacuum in about 0.1344 seconds. A \"low latency\" communication link carrying data over this 25.000 mile propagation path would therefore be capable of passing atleast some portion of the data over the link in about 0.14784 seconds or less."
   ]
  },
  {
   "cell_type": "markdown",
   "metadata": {},
   "source": [
    "### High Latency \n",
    "\n",
    "generally refers to a period of time that is over 10% greater than the time required for light to travel a given propagation path in avacuum.Expressed as a formula,high latency is defined as folows:\n",
    "\n",
    "\n",
    "$latency_{high}  \\ge \\frac{d}{c} .k$  &nbsp;&nbsp;&nbsp;&nbsp;&nbsp;&nbsp;&nbsp;&nbsp;&nbsp;&nbsp;&nbsp; (2) \n",
    "\n",
    "\n",
    "where:\\\n",
    "d = distance (miles)\\\n",
    "c = the speed of light in a vacuum (186,000 miles/sec)\\\n",
    "k = a scalar constant of 1.1"
   ]
  },
  {
   "cell_type": "markdown",
   "metadata": {},
   "source": [
    "#### Example \n",
    "\n",
    ">light can travel 8,000 miles through a vacuum in about 0.04301 seconds. A \"high latency\" communication link carrying data over this transmission path would therefore be capable of passing at least some portion of the data over the link in about 0.04731 seconds or more"
   ]
  },
  {
   "cell_type": "markdown",
   "metadata": {},
   "source": [
    "## Formula distance at HTF \n",
    "\n",
    "\"Radio horizon\" generally refers the locus of points at which direct rays from an antenna are tangential to the ground. The radio horizon can be approximated by the following equation:\n",
    "\n",
    "\n",
    "$d = \\sqrt{2h_{t}} + \\sqrt{2h_{r}}$  &nbsp;&nbsp;&nbsp;&nbsp;&nbsp;&nbsp;&nbsp;&nbsp;&nbsp;&nbsp;&nbsp; (3)  \n",
    "\n",
    "where:\n",
    "\n",
    "$d$ = radio horizon (miles)\n",
    "\n",
    "$h_{t}$ = transmitting antenna height (feet)\n",
    "\n",
    "$h_{r}$ = receiving antenna height (feet)\n"
   ]
  },
  {
   "cell_type": "markdown",
   "metadata": {},
   "source": [
    "### Modulation"
   ]
  },
  {
   "cell_type": "markdown",
   "metadata": {},
   "source": [
    "The Experimental licensed systems use a variety of frequency shift-keying modes, including FSK, AFSK, QPSK, and 8-PSK, on frequencies ranging from about 6 MHz to 24 MHz and **power levels from 20 kW ERP** to nearly **50 kW ERP**, depending on the Experimental license in question. Van Valzah pointed out in his blog post that, while HF is low bandwidth, unreliable, and expensive, “you can’t beat it for latency.”"
   ]
  },
  {
   "cell_type": "markdown",
   "metadata": {},
   "source": [
    "### Protocol"
   ]
  },
  {
   "cell_type": "markdown",
   "metadata": {},
   "source": [
    "\n",
    "\n",
    "RAFT Technologies develops and deploys a wireless ultra-low latency, transcontinental communications system. The system is highly suitable for financial markets and in particular for HFT – algorithmic trading firms. It enables Ultra-low latency communication between different exchanges and delivers data directly between exchange co-locations with the lowest latency available on the market today.\n",
    "\n",
    ">RAFT’s solution is straight forward, simple and quick to implement.\n",
    "The user is provided with a **UDP Protocol** and only needs to cross connect to RAFT’s switch in each location.\n",
    "\n",
    "*transcontinental:\n",
    "\n",
    "(ˌtrænzkɒntɪˈnɛntəl)\n",
    "\n",
    "adjective\n",
    "\n",
    "1. crossing a continent\n",
    "2. on or from the far side of a continent\n",
    "\n",
    "\n"
   ]
  },
  {
   "cell_type": "markdown",
   "metadata": {},
   "source": [
    "# Sky Wave Propagation"
   ]
  },
  {
   "cell_type": "markdown",
   "metadata": {},
   "source": [
    "Sky wave propagation is the basis of long-distance HF communication and over-the-horizon radar detection. Reflecting on Ionosphere is a necessary part of the propagation. Ionosphere can be divided into three layers called D, E, and F. F layer can be further divided into F1 layer and F2 layer. The F2 layer persists by day and night and is the main region responsible for the radio wave reflection. Sky wave propagation loss is considered to be related to the reflector surfaces’ conditions. \n",
    "\n",
    "\n",
    "\n",
    "![alt text](https://wiki.robotz.com/images/9/97/Ion_ayers.jpg \"Inosphare Layer\")\n",
    " \n",
    " ### D Layer\n",
    " \n",
    "> The \"D layer\" of the ionosphere is the innermost layer that ranges from about 25 miles (40km) to about 55 miles (90km) above the Earth's surface. \n",
    "\n",
    "The layer has the ability to refract signals of low frequencies, but it allows high frequency radio signals to pass through with some atenuation. The D layer normally, but not in all instances, disappears rapidly after Sunset due to rapid recombination of its ions.\n",
    " \n",
    " ### E Layer\n",
    " \n",
    ">The \"E layer\" of the ionosphere is the middle layer that ranges from about 55 miles (90km)to about 90 miles (145km) above the Earth's surface. \n",
    "\n",
    "The E layer typicaly has the ability torefract signals with frequencies higher than the D layer. Depending on the conditions, the E layer can normally refract frequencies up to 20 MHz. The rate of ionic recombination in the E layer is Some what rapid such that after Sunset it almost completely disappears by midnight. The E layer can further include what is termed an \"E layer or \n",
    "\"sporadic E layer\" that is formed by small, thin clouds of intense ionization. \n",
    "\n",
    "The sporadic E layer can reflect radiowaves, even frequencies up to 225 MHz,although rarely. Sporadic Elayers most often form during Summer months, and it has skip distances of around 1,020 miles (1,640 km). With the sporadic E layer, one hop propagation can be about 560 miles (900 km) to up to 1,600 miles (2,500 km), and double hop propagation can be over 2,200 miles (3,500 km).\n"
   ]
  },
  {
   "cell_type": "markdown",
   "metadata": {},
   "source": [
    "### F Layer\n",
    "\n",
    ">The “Flayer of the ionosphere is the top layer that ranges from about 90(145 km) to 310 miles (500 km) or more 40 above the Earth's surface.\n",
    "\n",
    "The ionization in the F layer is typicaly quite high and varies widely during the day, with the highest ionization occurring usualy around noon. During day light,the F layer separates into two layers,the F layer and the F layer.\n",
    "\n",
    "The F layer is 45 outer most layer and, as Such, is located higher than the F layer. Given the atmosphere is rarified at these altitudes, there combination of ionsoccurs lowly such that F layer remains constantly ionized, either day or night Such that most(but not all)sky wave propagation of radio 50 waves occur in the F layer,there by facilitating high frequency (HF) or shortwave communication over long distances. \n",
    "\n",
    "For example, the F layers are able to refract high frequency, long distance transmissions for frequencies up to 30 MHz."
   ]
  },
  {
   "cell_type": "code",
   "execution_count": 46,
   "metadata": {},
   "outputs": [
    {
     "name": "stdout",
     "output_type": "stream",
     "text": [
      "Assuming the earth is flat the range = 4898.98 km\n"
     ]
    }
   ],
   "source": [
    "from math import sqrt\n",
    "\n",
    "#given data :\n",
    "H = 500 #in km\n",
    "n = 0.8 #in m\n",
    "f_muf = 30 #in MHz\n",
    "f_muf = f_muf*10**6 #in Hz\n",
    "f = 10 #in MHz\n",
    "f = f*10**6 #in Hz\n",
    "\n",
    "# Formula : n=sqrt(1-81*N/f**2)\n",
    "Nmax = (1-n**2)*f**2/81 #in Hz \n",
    "fc=9*sqrt(Nmax) #in Hz\n",
    "Dskip=2*H*sqrt((f_muf/fc)**2-1) #in Km\n",
    "print (\"Assuming the earth is flat the range = %0.2f km\" %Dskip)\n",
    "\n"
   ]
  },
  {
   "cell_type": "code",
   "execution_count": 47,
   "metadata": {},
   "outputs": [
    {
     "name": "stdout",
     "output_type": "stream",
     "text": [
      "Assuming the earth is curved the ground range = 1428.57 km\n"
     ]
    }
   ],
   "source": [
    "\n",
    "#given data :\n",
    "n=0.8 #in m\n",
    "H=500 #in km\n",
    "a=6370 #in km\n",
    "D=1349.07 #in Km\n",
    "f_muf=10 #in MHz\n",
    "f_muf=f_muf*10**6 #in Hz\n",
    "f=10 #in MHz\n",
    "f=f*10**6 #in Hz\n",
    "\n",
    "# Formula : n=sqrt(1-81*N/f**2)\n",
    "Nmax=(1-n**2)*f**2/81 #in Hz \n",
    "fc=9*sqrt(Nmax) #in Hz\n",
    "\n",
    "# Formula : f_muf/fc=sqrt(D**2/(4*(H+D**2/(8*a))))+1\n",
    "D1=2*(H+D**2/(8*a))*sqrt((f_muf/fc)**2-1) #in Km\n",
    "Dskip=2*H*sqrt((f_muf/fc)**2-1) #in Km\n",
    "print (\"Assuming the earth is curved the ground range = %0.2f km\"% D1)"
   ]
  },
  {
   "cell_type": "markdown",
   "metadata": {},
   "source": [
    "## The model of the reflection off the ocean"
   ]
  },
  {
   "cell_type": "markdown",
   "metadata": {},
   "source": [
    "The model focuses on the simulation of sea surfaces. To simplify our models, we make the following  assumptions:  The  ionosphere  is  reduced  to  only  one  layer,  which  means  our  model  considers  only  F2 layer  and  ignores  the  other  two  layers’  effect,  for  the  F2  layer  is  the  main  region  responsible for the refraction and the reflection of the radio waves. The elevation angle is equal to the incident angle of the radio wave. The only difference between a turbulent ocean and a calm ocean is the conditions  of  the  sea surfaces.  This  assumption  is  to  keep  the  temperature,  salt  content  and  other  factors fixed.  Additional  losses,  including  polarization  loss,  absorption  loss  due  to  ionosphere  bias,  abnormal winter absorption, etc. in the process of propagation are ignored because they are difficult to model accurately and have minimal effect. \n"
   ]
  },
  {
   "cell_type": "markdown",
   "metadata": {},
   "source": [
    "### The Free space propagtion loss"
   ]
  },
  {
   "cell_type": "markdown",
   "metadata": {},
   "source": [
    "First  we  calculate  the  FSPL,  which  mainly  results  from  the  divergence  of  the  energy  during  the  propagation. Suppose the earth and the ionosphere are flat, thus there is negative correlation between the  energy  density  and  the  square  of  the  ray  pat \n"
   ]
  },
  {
   "cell_type": "markdown",
   "metadata": {},
   "source": [
    "\n",
    "#### The power flux density equals :\n",
    "\n",
    "Power flux-density is the power per unit area normal to the direction of electromagnetic wave propagation, usually expressed in units of Watts per square metre (W/m2).\n",
    "\n",
    "\n",
    "\\begin{equation*}\n",
    "P(4\\pi D^{2})^{-1}                  \n",
    "\\end{equation*}\n",
    "\n",
    "Where :\\\n",
    "P = Denote propagate power\\\n",
    "D = Denote distance of ray path\n",
    "\n"
   ]
  }
 ],
 "metadata": {
  "kernelspec": {
   "display_name": "Python 3",
   "language": "python",
   "name": "python3"
  },
  "language_info": {
   "codemirror_mode": {
    "name": "ipython",
    "version": 3
   },
   "file_extension": ".py",
   "mimetype": "text/x-python",
   "name": "python",
   "nbconvert_exporter": "python",
   "pygments_lexer": "ipython3",
   "version": "3.8.3"
  }
 },
 "nbformat": 4,
 "nbformat_minor": 4
}
