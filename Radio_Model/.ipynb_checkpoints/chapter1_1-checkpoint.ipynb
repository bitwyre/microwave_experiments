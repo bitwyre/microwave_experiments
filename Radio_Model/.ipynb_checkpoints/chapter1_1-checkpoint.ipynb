{
 "metadata": {
  "name": "",
  "signature": "sha256:37d7c9e86e6a81ee7eb6a2dbfc73df70c3266a2471b35c7c536efad1cc61aa82"
 },
 "nbformat": 3,
 "nbformat_minor": 0,
 "worksheets": [
  {
   "cells": [
    {
     "cell_type": "heading",
     "level": 1,
     "metadata": {},
     "source": [
      "Chapter1, Review of Electromagnetics and Transmission Lines"
     ]
    },
    {
     "cell_type": "heading",
     "level": 2,
     "metadata": {},
     "source": [
      "Example No. 1.1.1, page 1-3"
     ]
    },
    {
     "cell_type": "code",
     "collapsed": false,
     "input": [
      "from __future__ import division\n",
      "f1=100 #kHz\n",
      "f2=1 #MHz\n",
      "f3=10 #MHz\n",
      "c=3*10**8 #m/s\n",
      "lamda1=c/(f1*10**3) #m\n",
      "lamda2=c/(f2*10**6) #m\n",
      "lamda3=c/(f3*10**6) #m\n",
      "print \"At 100kHz, wavelength = %0.f km \" %(lamda1/1000) \n",
      "print \"At 1MHz, wavelength = %0.f m \" %lamda2 \n",
      "print \"At 10MHz, wavelength = %0.f m \"%lamda3"
     ],
     "language": "python",
     "metadata": {},
     "outputs": [
      {
       "output_type": "stream",
       "stream": "stdout",
       "text": [
        "At 100kHz, wavelength = 3 km \n",
        "At 1MHz, wavelength = 300 m \n",
        "At 10MHz, wavelength = 30 m \n"
       ]
      }
     ],
     "prompt_number": 3
    }
   ],
   "metadata": {}
  }
 ]
}
