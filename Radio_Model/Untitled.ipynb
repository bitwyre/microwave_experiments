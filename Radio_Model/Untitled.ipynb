{
 "cells": [
  {
   "cell_type": "markdown",
   "metadata": {},
   "source": [
    "# Create Model Radio "
   ]
  },
  {
   "cell_type": "code",
   "execution_count": 2,
   "metadata": {},
   "outputs": [
    {
     "name": "stdout",
     "output_type": "stream",
     "text": [
      "Prx -102.0 dBm   Pn -107.4 dBm\n"
     ]
    }
   ],
   "source": [
    "import numpy as np\n",
    "from scipy.constants import c\n",
    "\n",
    "def main():\n",
    "    freqHz = 2345e6\n",
    "    \n",
    "    # %% Thermal noise\n",
    "    kB = 1.38064852e-23  # [m^2 kg s^-2 K^-1]\n",
    "    T  = 290             # K\n",
    "    B  = 4.5e6           # s^-1\n",
    "\n",
    "    Pn_W  = kB * T * B                 # Watts = kg m^2 s^-3\n",
    "    Pn    = 10 * np.log10(Pn_W) + 30   # dBm\n",
    "    \n",
    "    # %% Path loss\n",
    "    Lrain = 0.1                        # [dB] FIXME: guesstimate\n",
    "    Dm    = 40000e3                    # slant range [meters]\n",
    "\n",
    "    Lpath = 20 * np.log10(4 * np.pi / c * Dm * freqHz)  # [dB]\n",
    "    Lant  = (0.0)  #[dB] \n",
    "    \n",
    "    # assume LNA gain balances cable loss, antenna gain balanced by other uncharacterized losses\n",
    "    Seirp = 60 + 30 # [dBm] satellite transmit power EIRP\n",
    "    Prx   = Seirp - Lrain - Lpath - Lant\n",
    "\n",
    "    print(f\"Prx {Prx:.1f} dBm   Pn {Pn:.1f} dBm\")\n",
    "\n",
    "\n",
    "if __name__ == \"__main__\":\n",
    "    main()"
   ]
  }
 ],
 "metadata": {
  "kernelspec": {
   "display_name": "Python 3",
   "language": "python",
   "name": "python3"
  },
  "language_info": {
   "codemirror_mode": {
    "name": "ipython",
    "version": 3
   },
   "file_extension": ".py",
   "mimetype": "text/x-python",
   "name": "python",
   "nbconvert_exporter": "python",
   "pygments_lexer": "ipython3",
   "version": "3.8.3"
  }
 },
 "nbformat": 4,
 "nbformat_minor": 4
}
