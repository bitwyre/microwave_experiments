{
 "cells": [
  {
   "cell_type": "code",
   "execution_count": 32,
   "metadata": {},
   "outputs": [
    {
     "name": "stdout",
     "output_type": "stream",
     "text": [
      "Collecting matplotlib\n",
      "  Using cached matplotlib-3.3.2.tar.gz (37.9 MB)\n",
      "\u001b[31m    ERROR: Command errored out with exit status 1:\n",
      "     command: /usr/local/Cellar/jupyterlab/2.2.9/libexec/bin/python -c 'import sys, setuptools, tokenize; sys.argv[0] = '\"'\"'/private/var/folders/0s/5yv0ghcj20g73sg4_b5165br0000gn/T/pip-install-agmxh9tp/matplotlib/setup.py'\"'\"'; __file__='\"'\"'/private/var/folders/0s/5yv0ghcj20g73sg4_b5165br0000gn/T/pip-install-agmxh9tp/matplotlib/setup.py'\"'\"';f=getattr(tokenize, '\"'\"'open'\"'\"', open)(__file__);code=f.read().replace('\"'\"'\\r\\n'\"'\"', '\"'\"'\\n'\"'\"');f.close();exec(compile(code, __file__, '\"'\"'exec'\"'\"'))' egg_info --egg-base /private/var/folders/0s/5yv0ghcj20g73sg4_b5165br0000gn/T/pip-pip-egg-info-m_yy7yac\n",
      "         cwd: /private/var/folders/0s/5yv0ghcj20g73sg4_b5165br0000gn/T/pip-install-agmxh9tp/matplotlib/\n",
      "    Complete output (62 lines):\n",
      "    \n",
      "    Edit setup.cfg to change the build options; suppress output with --quiet.\n",
      "    \n",
      "    BUILDING MATPLOTLIB\n",
      "      matplotlib: yes [3.3.2]\n",
      "          python: yes [3.9.0 (default, Oct 18 2020, 02:16:06)  [Clang 12.0.0\n",
      "                      (clang-1200.0.32.2)]]\n",
      "        platform: yes [darwin]\n",
      "     sample_data: yes [installing]\n",
      "           tests: no  [skipping due to configuration]\n",
      "          macosx: yes [installing]\n",
      "    \n",
      "    running egg_info\n",
      "    creating /private/var/folders/0s/5yv0ghcj20g73sg4_b5165br0000gn/T/pip-pip-egg-info-m_yy7yac/matplotlib.egg-info\n",
      "    writing /private/var/folders/0s/5yv0ghcj20g73sg4_b5165br0000gn/T/pip-pip-egg-info-m_yy7yac/matplotlib.egg-info/PKG-INFO\n",
      "    writing dependency_links to /private/var/folders/0s/5yv0ghcj20g73sg4_b5165br0000gn/T/pip-pip-egg-info-m_yy7yac/matplotlib.egg-info/dependency_links.txt\n",
      "    writing namespace_packages to /private/var/folders/0s/5yv0ghcj20g73sg4_b5165br0000gn/T/pip-pip-egg-info-m_yy7yac/matplotlib.egg-info/namespace_packages.txt\n",
      "    writing requirements to /private/var/folders/0s/5yv0ghcj20g73sg4_b5165br0000gn/T/pip-pip-egg-info-m_yy7yac/matplotlib.egg-info/requires.txt\n",
      "    writing top-level names to /private/var/folders/0s/5yv0ghcj20g73sg4_b5165br0000gn/T/pip-pip-egg-info-m_yy7yac/matplotlib.egg-info/top_level.txt\n",
      "    writing manifest file '/private/var/folders/0s/5yv0ghcj20g73sg4_b5165br0000gn/T/pip-pip-egg-info-m_yy7yac/matplotlib.egg-info/SOURCES.txt'\n",
      "    init_dgelsd failed init\n",
      "    Traceback (most recent call last):\n",
      "      File \"<string>\", line 1, in <module>\n",
      "      File \"/private/var/folders/0s/5yv0ghcj20g73sg4_b5165br0000gn/T/pip-install-agmxh9tp/matplotlib/setup.py\", line 242, in <module>\n",
      "        setup(  # Finally, pass this all along to distutils to do the heavy lifting.\n",
      "      File \"/usr/local/Cellar/jupyterlab/2.2.9/libexec/lib/python3.9/site-packages/setuptools/__init__.py\", line 153, in setup\n",
      "        return distutils.core.setup(**attrs)\n",
      "      File \"/usr/local/Cellar/python@3.9/3.9.0/Frameworks/Python.framework/Versions/3.9/lib/python3.9/distutils/core.py\", line 148, in setup\n",
      "        dist.run_commands()\n",
      "      File \"/usr/local/Cellar/python@3.9/3.9.0/Frameworks/Python.framework/Versions/3.9/lib/python3.9/distutils/dist.py\", line 966, in run_commands\n",
      "        self.run_command(cmd)\n",
      "      File \"/usr/local/Cellar/python@3.9/3.9.0/Frameworks/Python.framework/Versions/3.9/lib/python3.9/distutils/dist.py\", line 985, in run_command\n",
      "        cmd_obj.run()\n",
      "      File \"/usr/local/Cellar/jupyterlab/2.2.9/libexec/lib/python3.9/site-packages/setuptools/command/egg_info.py\", line 298, in run\n",
      "        self.find_sources()\n",
      "      File \"/usr/local/Cellar/jupyterlab/2.2.9/libexec/lib/python3.9/site-packages/setuptools/command/egg_info.py\", line 305, in find_sources\n",
      "        mm.run()\n",
      "      File \"/usr/local/Cellar/jupyterlab/2.2.9/libexec/lib/python3.9/site-packages/setuptools/command/egg_info.py\", line 536, in run\n",
      "        self.add_defaults()\n",
      "      File \"/usr/local/Cellar/jupyterlab/2.2.9/libexec/lib/python3.9/site-packages/setuptools/command/egg_info.py\", line 572, in add_defaults\n",
      "        sdist.add_defaults(self)\n",
      "      File \"/usr/local/Cellar/python@3.9/3.9.0/Frameworks/Python.framework/Versions/3.9/lib/python3.9/distutils/command/sdist.py\", line 228, in add_defaults\n",
      "        self._add_defaults_ext()\n",
      "      File \"/usr/local/Cellar/python@3.9/3.9.0/Frameworks/Python.framework/Versions/3.9/lib/python3.9/distutils/command/sdist.py\", line 311, in _add_defaults_ext\n",
      "        build_ext = self.get_finalized_command('build_ext')\n",
      "      File \"/usr/local/Cellar/python@3.9/3.9.0/Frameworks/Python.framework/Versions/3.9/lib/python3.9/distutils/cmd.py\", line 299, in get_finalized_command\n",
      "        cmd_obj.ensure_finalized()\n",
      "      File \"/usr/local/Cellar/python@3.9/3.9.0/Frameworks/Python.framework/Versions/3.9/lib/python3.9/distutils/cmd.py\", line 107, in ensure_finalized\n",
      "        self.finalize_options()\n",
      "      File \"/private/var/folders/0s/5yv0ghcj20g73sg4_b5165br0000gn/T/pip-install-agmxh9tp/matplotlib/setup.py\", line 88, in finalize_options\n",
      "        self.distribution.ext_modules[:] = [\n",
      "      File \"/private/var/folders/0s/5yv0ghcj20g73sg4_b5165br0000gn/T/pip-install-agmxh9tp/matplotlib/setup.py\", line 91, in <listcomp>\n",
      "        for ext in package.get_extensions()\n",
      "      File \"/private/var/folders/0s/5yv0ghcj20g73sg4_b5165br0000gn/T/pip-install-agmxh9tp/matplotlib/setupext.py\", line 345, in get_extensions\n",
      "        add_numpy_flags(ext)\n",
      "      File \"/private/var/folders/0s/5yv0ghcj20g73sg4_b5165br0000gn/T/pip-install-agmxh9tp/matplotlib/setupext.py\", line 469, in add_numpy_flags\n",
      "        import numpy as np\n",
      "      File \"/usr/local/Cellar/jupyterlab/2.2.9/libexec/lib/python3.9/site-packages/numpy/__init__.py\", line 286, in <module>\n",
      "        raise RuntimeError(msg)\n",
      "    RuntimeError: Polyfit sanity test emitted a warning, most likely due to using a buggy Accelerate backend. If you compiled yourself, see site.cfg.example for information. Otherwise report this to the vendor that provided NumPy.\n",
      "    RankWarning: Polyfit may be poorly conditioned\n",
      "    \n",
      "    ----------------------------------------\u001b[0m\n",
      "\u001b[31mERROR: Command errored out with exit status 1: python setup.py egg_info Check the logs for full command output.\u001b[0m\n"
     ]
    }
   ],
   "source": [
    "# Install a pip package in the current Jupyter kernel\n",
    "import sys\n",
    "!{sys.executable}  -m pip install matplotlib\n"
   ]
  },
  {
   "cell_type": "code",
   "execution_count": 29,
   "metadata": {},
   "outputs": [],
   "source": [
    "from gnuradio import uhd"
   ]
  },
  {
   "cell_type": "code",
   "execution_count": 7,
   "metadata": {},
   "outputs": [],
   "source": [
    "from gnuradio import audio"
   ]
  },
  {
   "cell_type": "code",
   "execution_count": null,
   "metadata": {},
   "outputs": [],
   "source": [
    "from gnuradio import gr"
   ]
  },
  {
   "cell_type": "code",
   "execution_count": null,
   "metadata": {},
   "outputs": [],
   "source": [
    "from gnuradio import blocks"
   ]
  },
  {
   "cell_type": "code",
   "execution_count": 15,
   "metadata": {},
   "outputs": [
    {
     "ename": "RuntimeError",
     "evalue": "Polyfit sanity test emitted a warning, most likely due to using a buggy Accelerate backend. If you compiled yourself, see site.cfg.example for information. Otherwise report this to the vendor that provided NumPy.\nRankWarning: Polyfit may be poorly conditioned\n",
     "output_type": "error",
     "traceback": [
      "\u001b[0;31m---------------------------------------------------------------------------\u001b[0m",
      "\u001b[0;31mRuntimeError\u001b[0m                              Traceback (most recent call last)",
      "\u001b[0;32m<ipython-input-15-950c5c8cd5e7>\u001b[0m in \u001b[0;36m<module>\u001b[0;34m\u001b[0m\n\u001b[0;32m----> 1\u001b[0;31m \u001b[0;32mfrom\u001b[0m \u001b[0mgnuradio\u001b[0m\u001b[0;34m.\u001b[0m\u001b[0mfilter\u001b[0m \u001b[0;32mimport\u001b[0m \u001b[0mfirdes\u001b[0m\u001b[0;34m\u001b[0m\u001b[0;34m\u001b[0m\u001b[0m\n\u001b[0m",
      "\u001b[0;32m/usr/local/Cellar/gnuradio/3.8.2.0_3/lib/python3.9/site-packages/gnuradio/filter/__init__.py\u001b[0m in \u001b[0;36m<module>\u001b[0;34m\u001b[0m\n\u001b[1;32m     35\u001b[0m     \u001b[0;32mfrom\u001b[0m \u001b[0;34m.\u001b[0m\u001b[0mfilter_swig\u001b[0m \u001b[0;32mimport\u001b[0m \u001b[0;34m*\u001b[0m\u001b[0;34m\u001b[0m\u001b[0;34m\u001b[0m\u001b[0m\n\u001b[1;32m     36\u001b[0m \u001b[0;34m\u001b[0m\u001b[0m\n\u001b[0;32m---> 37\u001b[0;31m \u001b[0;32mfrom\u001b[0m \u001b[0;34m.\u001b[0m\u001b[0mfilterbank\u001b[0m \u001b[0;32mimport\u001b[0m \u001b[0;34m*\u001b[0m\u001b[0;34m\u001b[0m\u001b[0;34m\u001b[0m\u001b[0m\n\u001b[0m\u001b[1;32m     38\u001b[0m \u001b[0;32mfrom\u001b[0m \u001b[0;34m.\u001b[0m\u001b[0mfreq_xlating_fft_filter\u001b[0m \u001b[0;32mimport\u001b[0m \u001b[0;34m*\u001b[0m\u001b[0;34m\u001b[0m\u001b[0;34m\u001b[0m\u001b[0m\n\u001b[1;32m     39\u001b[0m \u001b[0;32mfrom\u001b[0m \u001b[0;34m.\u001b[0m\u001b[0mrational_resampler\u001b[0m \u001b[0;32mimport\u001b[0m \u001b[0;34m*\u001b[0m\u001b[0;34m\u001b[0m\u001b[0;34m\u001b[0m\u001b[0m\n",
      "\u001b[0;32m/usr/local/Cellar/gnuradio/3.8.2.0_3/lib/python3.9/site-packages/gnuradio/filter/filterbank.py\u001b[0m in \u001b[0;36m<module>\u001b[0;34m\u001b[0m\n\u001b[1;32m     23\u001b[0m \u001b[0;32mfrom\u001b[0m \u001b[0m__future__\u001b[0m \u001b[0;32mimport\u001b[0m \u001b[0municode_literals\u001b[0m\u001b[0;34m\u001b[0m\u001b[0;34m\u001b[0m\u001b[0m\n\u001b[1;32m     24\u001b[0m \u001b[0;34m\u001b[0m\u001b[0m\n\u001b[0;32m---> 25\u001b[0;31m \u001b[0;32mfrom\u001b[0m \u001b[0mgnuradio\u001b[0m \u001b[0;32mimport\u001b[0m \u001b[0mgr\u001b[0m\u001b[0;34m\u001b[0m\u001b[0;34m\u001b[0m\u001b[0m\n\u001b[0m\u001b[1;32m     26\u001b[0m \u001b[0;32mfrom\u001b[0m \u001b[0mgnuradio\u001b[0m \u001b[0;32mimport\u001b[0m \u001b[0mfft\u001b[0m\u001b[0;34m\u001b[0m\u001b[0;34m\u001b[0m\u001b[0m\n\u001b[1;32m     27\u001b[0m \u001b[0;32mfrom\u001b[0m \u001b[0mgnuradio\u001b[0m \u001b[0;32mimport\u001b[0m \u001b[0mblocks\u001b[0m\u001b[0;34m\u001b[0m\u001b[0;34m\u001b[0m\u001b[0m\n",
      "\u001b[0;32m/usr/local/Cellar/gnuradio/3.8.2.0_3/lib/python3.9/site-packages/gnuradio/gr/__init__.py\u001b[0m in \u001b[0;36m<module>\u001b[0;34m\u001b[0m\n\u001b[1;32m     44\u001b[0m \u001b[0;34m\u001b[0m\u001b[0m\n\u001b[1;32m     45\u001b[0m \u001b[0;32mfrom\u001b[0m \u001b[0;34m.\u001b[0m\u001b[0mexceptions\u001b[0m \u001b[0;32mimport\u001b[0m \u001b[0;34m*\u001b[0m\u001b[0;34m\u001b[0m\u001b[0;34m\u001b[0m\u001b[0m\n\u001b[0;32m---> 46\u001b[0;31m \u001b[0;32mfrom\u001b[0m \u001b[0;34m.\u001b[0m\u001b[0mtop_block\u001b[0m \u001b[0;32mimport\u001b[0m \u001b[0;34m*\u001b[0m\u001b[0;34m\u001b[0m\u001b[0;34m\u001b[0m\u001b[0m\n\u001b[0m\u001b[1;32m     47\u001b[0m \u001b[0;32mfrom\u001b[0m \u001b[0;34m.\u001b[0m\u001b[0mhier_block2\u001b[0m \u001b[0;32mimport\u001b[0m \u001b[0;34m*\u001b[0m\u001b[0;34m\u001b[0m\u001b[0;34m\u001b[0m\u001b[0m\n\u001b[1;32m     48\u001b[0m \u001b[0;32mfrom\u001b[0m \u001b[0;34m.\u001b[0m\u001b[0mtag_utils\u001b[0m \u001b[0;32mimport\u001b[0m \u001b[0;34m*\u001b[0m\u001b[0;34m\u001b[0m\u001b[0;34m\u001b[0m\u001b[0m\n",
      "\u001b[0;32m/usr/local/Cellar/gnuradio/3.8.2.0_3/lib/python3.9/site-packages/gnuradio/gr/top_block.py\u001b[0m in \u001b[0;36m<module>\u001b[0;34m\u001b[0m\n\u001b[1;32m     30\u001b[0m \u001b[0;32mimport\u001b[0m \u001b[0mthreading\u001b[0m\u001b[0;34m\u001b[0m\u001b[0;34m\u001b[0m\u001b[0m\n\u001b[1;32m     31\u001b[0m \u001b[0;34m\u001b[0m\u001b[0m\n\u001b[0;32m---> 32\u001b[0;31m \u001b[0;32mfrom\u001b[0m \u001b[0;34m.\u001b[0m\u001b[0mhier_block2\u001b[0m \u001b[0;32mimport\u001b[0m \u001b[0mhier_block2\u001b[0m\u001b[0;34m\u001b[0m\u001b[0;34m\u001b[0m\u001b[0m\n\u001b[0m\u001b[1;32m     33\u001b[0m \u001b[0;34m\u001b[0m\u001b[0m\n\u001b[1;32m     34\u001b[0m \u001b[0;32mclass\u001b[0m \u001b[0m_top_block_waiter\u001b[0m\u001b[0;34m(\u001b[0m\u001b[0mthreading\u001b[0m\u001b[0;34m.\u001b[0m\u001b[0mThread\u001b[0m\u001b[0;34m)\u001b[0m\u001b[0;34m:\u001b[0m\u001b[0;34m\u001b[0m\u001b[0;34m\u001b[0m\u001b[0m\n",
      "\u001b[0;32m/usr/local/Cellar/gnuradio/3.8.2.0_3/lib/python3.9/site-packages/gnuradio/gr/hier_block2.py\u001b[0m in \u001b[0;36m<module>\u001b[0;34m\u001b[0m\n\u001b[1;32m     24\u001b[0m \u001b[0;34m\u001b[0m\u001b[0m\n\u001b[1;32m     25\u001b[0m \u001b[0;32mfrom\u001b[0m \u001b[0;34m.\u001b[0m\u001b[0mruntime_swig\u001b[0m \u001b[0;32mimport\u001b[0m \u001b[0mhier_block2_swig\u001b[0m\u001b[0;34m,\u001b[0m \u001b[0mdot_graph\u001b[0m\u001b[0;34m\u001b[0m\u001b[0;34m\u001b[0m\u001b[0m\n\u001b[0;32m---> 26\u001b[0;31m \u001b[0;32mimport\u001b[0m \u001b[0mpmt\u001b[0m\u001b[0;34m\u001b[0m\u001b[0;34m\u001b[0m\u001b[0m\n\u001b[0m\u001b[1;32m     27\u001b[0m \u001b[0;34m\u001b[0m\u001b[0m\n\u001b[1;32m     28\u001b[0m \u001b[0;34m\u001b[0m\u001b[0m\n",
      "\u001b[0;32m/usr/local/Cellar/gnuradio/3.8.2.0_3/lib/python3.9/site-packages/pmt/__init__.py\u001b[0m in \u001b[0;36m<module>\u001b[0;34m\u001b[0m\n\u001b[1;32m     59\u001b[0m \u001b[0mPMT_EOF\u001b[0m \u001b[0;34m=\u001b[0m \u001b[0mget_PMT_EOF\u001b[0m\u001b[0;34m(\u001b[0m\u001b[0;34m)\u001b[0m\u001b[0;34m\u001b[0m\u001b[0;34m\u001b[0m\u001b[0m\n\u001b[1;32m     60\u001b[0m \u001b[0;34m\u001b[0m\u001b[0m\n\u001b[0;32m---> 61\u001b[0;31m \u001b[0;32mfrom\u001b[0m \u001b[0;34m.\u001b[0m\u001b[0mpmt_to_python\u001b[0m \u001b[0;32mimport\u001b[0m \u001b[0mpmt_to_python\u001b[0m \u001b[0;32mas\u001b[0m \u001b[0mto_python\u001b[0m\u001b[0;34m\u001b[0m\u001b[0;34m\u001b[0m\u001b[0m\n\u001b[0m\u001b[1;32m     62\u001b[0m \u001b[0;32mfrom\u001b[0m \u001b[0;34m.\u001b[0m\u001b[0mpmt_to_python\u001b[0m \u001b[0;32mimport\u001b[0m \u001b[0mpython_to_pmt\u001b[0m \u001b[0;32mas\u001b[0m \u001b[0mto_pmt\u001b[0m\u001b[0;34m\u001b[0m\u001b[0;34m\u001b[0m\u001b[0m\n",
      "\u001b[0;32m/usr/local/Cellar/gnuradio/3.8.2.0_3/lib/python3.9/site-packages/pmt/pmt_to_python.py\u001b[0m in \u001b[0;36m<module>\u001b[0;34m\u001b[0m\n\u001b[1;32m     21\u001b[0m \u001b[0;34m\u001b[0m\u001b[0m\n\u001b[1;32m     22\u001b[0m \u001b[0;32mfrom\u001b[0m \u001b[0;34m.\u001b[0m \u001b[0;32mimport\u001b[0m \u001b[0mpmt_swig\u001b[0m \u001b[0;32mas\u001b[0m \u001b[0mpmt\u001b[0m\u001b[0;34m\u001b[0m\u001b[0;34m\u001b[0m\u001b[0m\n\u001b[0;32m---> 23\u001b[0;31m \u001b[0;32mimport\u001b[0m \u001b[0mnumpy\u001b[0m\u001b[0;34m\u001b[0m\u001b[0;34m\u001b[0m\u001b[0m\n\u001b[0m\u001b[1;32m     24\u001b[0m \u001b[0;34m\u001b[0m\u001b[0m\n\u001b[1;32m     25\u001b[0m \u001b[0;31m# SWIG isn't taking in the #define PMT_NIL;\u001b[0m\u001b[0;34m\u001b[0m\u001b[0;34m\u001b[0m\u001b[0;34m\u001b[0m\u001b[0m\n",
      "\u001b[0;32m/usr/local/Cellar/jupyterlab/2.2.9/libexec/lib/python3.9/site-packages/numpy/__init__.py\u001b[0m in \u001b[0;36m<module>\u001b[0;34m\u001b[0m\n\u001b[1;32m    284\u001b[0m                     \"that provided NumPy.\\n{}\\n\".format(\n\u001b[1;32m    285\u001b[0m                         error_message))\n\u001b[0;32m--> 286\u001b[0;31m                 \u001b[0;32mraise\u001b[0m \u001b[0mRuntimeError\u001b[0m\u001b[0;34m(\u001b[0m\u001b[0mmsg\u001b[0m\u001b[0;34m)\u001b[0m\u001b[0;34m\u001b[0m\u001b[0;34m\u001b[0m\u001b[0m\n\u001b[0m\u001b[1;32m    287\u001b[0m     \u001b[0;32mdel\u001b[0m \u001b[0m_mac_os_check\u001b[0m\u001b[0;34m\u001b[0m\u001b[0;34m\u001b[0m\u001b[0m\n\u001b[1;32m    288\u001b[0m \u001b[0;34m\u001b[0m\u001b[0m\n",
      "\u001b[0;31mRuntimeError\u001b[0m: Polyfit sanity test emitted a warning, most likely due to using a buggy Accelerate backend. If you compiled yourself, see site.cfg.example for information. Otherwise report this to the vendor that provided NumPy.\nRankWarning: Polyfit may be poorly conditioned\n"
     ]
    }
   ],
   "source": [
    "from gnuradio.filter import firdes"
   ]
  },
  {
   "cell_type": "code",
   "execution_count": null,
   "metadata": {},
   "outputs": [],
   "source": []
  },
  {
   "cell_type": "code",
   "execution_count": null,
   "metadata": {},
   "outputs": [],
   "source": [
    "Fc = int(162.4236)"
   ]
  },
  {
   "cell_type": "code",
   "execution_count": 13,
   "metadata": {},
   "outputs": [],
   "source": [
    "Fs = int(503)\n",
    "gain = 50\n",
    "N = int(1e6)"
   ]
  },
  {
   "cell_type": "code",
   "execution_count": 14,
   "metadata": {},
   "outputs": [
    {
     "ename": "NameError",
     "evalue": "name 'gr' is not defined",
     "output_type": "error",
     "traceback": [
      "\u001b[0;31m---------------------------------------------------------------------------\u001b[0m",
      "\u001b[0;31mNameError\u001b[0m                                 Traceback (most recent call last)",
      "\u001b[0;32m<ipython-input-14-a60393119c1f>\u001b[0m in \u001b[0;36m<module>\u001b[0;34m\u001b[0m\n\u001b[1;32m      2\u001b[0m \u001b[0;31m# Cribbing off http://gnuradio.org/notebooks/GNURadioforSimulation.html\u001b[0m\u001b[0;34m\u001b[0m\u001b[0;34m\u001b[0m\u001b[0;34m\u001b[0m\u001b[0m\n\u001b[1;32m      3\u001b[0m \u001b[0;31m#\u001b[0m\u001b[0;34m\u001b[0m\u001b[0;34m\u001b[0m\u001b[0;34m\u001b[0m\u001b[0m\n\u001b[0;32m----> 4\u001b[0;31m \u001b[0mtb\u001b[0m \u001b[0;34m=\u001b[0m \u001b[0mgr\u001b[0m\u001b[0;34m.\u001b[0m\u001b[0mtop_block\u001b[0m\u001b[0;34m(\u001b[0m\u001b[0;34m)\u001b[0m\u001b[0;34m\u001b[0m\u001b[0;34m\u001b[0m\u001b[0m\n\u001b[0m\u001b[1;32m      5\u001b[0m \u001b[0;34m\u001b[0m\u001b[0m\n\u001b[1;32m      6\u001b[0m \u001b[0;31m# Set up our flow graph\u001b[0m\u001b[0;34m\u001b[0m\u001b[0;34m\u001b[0m\u001b[0;34m\u001b[0m\u001b[0m\n",
      "\u001b[0;31mNameError\u001b[0m: name 'gr' is not defined"
     ]
    }
   ],
   "source": [
    "# Set up our flow graph\n",
    "# Cribbing off http://gnuradio.org/notebooks/GNURadioforSimulation.html\n",
    "#\n",
    "tb = gr.top_block()\n",
    "\n",
    "# Set up our flow graph\n",
    "# Cribbing off http://gnuradio.org/notebooks/GNURadioforSimulation.html\n",
    "#\n",
    "tb = gr.top_block()\n",
    "\n",
    "# Set up the USRP for input     \n",
    "usrp_source = uhd.usrp_source(\",\", uhd.stream_args(cpu_format=\"fc32\", channels=[0]))\n",
    "usrp_source.set_samp_rate(Fs)\n",
    "usrp_source.set_center_freq(Fc, 0)\n",
    "usrp_source.set_gain(gain, 0)\n",
    "\n",
    "# Let's try to flush out the first bunch of samples\n",
    "skip_head = blocks.skiphead(gr.sizeof_gr_complex, 1)\n",
    "\n",
    "# Limit ourselves to N samples\n",
    "head = blocks.head(gr.sizeof_gr_complex, N)\n",
    "\n",
    "# And a sink to dump them into\n",
    "sink = blocks.vector_sink_c()\n",
    "\n",
    "\n",
    "tb.connect(usrp_source, skip_head, head, sink) # Can use the handy serial connect method here"
   ]
  },
  {
   "cell_type": "code",
   "execution_count": 34,
   "metadata": {},
   "outputs": [
    {
     "ename": "RuntimeError",
     "evalue": "Polyfit sanity test emitted a warning, most likely due to using a buggy Accelerate backend. If you compiled yourself, see site.cfg.example for information. Otherwise report this to the vendor that provided NumPy.\nRankWarning: Polyfit may be poorly conditioned\n",
     "output_type": "error",
     "traceback": [
      "\u001b[0;31m---------------------------------------------------------------------------\u001b[0m",
      "\u001b[0;31mRuntimeError\u001b[0m                              Traceback (most recent call last)",
      "\u001b[0;32m<ipython-input-34-d9df51324875>\u001b[0m in \u001b[0;36m<module>\u001b[0;34m\u001b[0m\n\u001b[0;32m----> 1\u001b[0;31m \u001b[0;32mimport\u001b[0m \u001b[0mnumpy\u001b[0m \u001b[0;32mas\u001b[0m \u001b[0mnp\u001b[0m\u001b[0;34m\u001b[0m\u001b[0;34m\u001b[0m\u001b[0m\n\u001b[0m\u001b[1;32m      2\u001b[0m \u001b[0mxp\u001b[0m \u001b[0;34m=\u001b[0m \u001b[0mnp\u001b[0m\u001b[0;34m.\u001b[0m\u001b[0mlinspace\u001b[0m\u001b[0;34m(\u001b[0m\u001b[0;34m-\u001b[0m\u001b[0;36m1\u001b[0m\u001b[0;34m,\u001b[0m \u001b[0;36m1\u001b[0m\u001b[0;34m,\u001b[0m \u001b[0;36m10000\u001b[0m\u001b[0;34m)\u001b[0m \u001b[0;34m*\u001b[0m \u001b[0;36m2\u001b[0m \u001b[0;34m*\u001b[0m \u001b[0mnp\u001b[0m\u001b[0;34m.\u001b[0m\u001b[0mpi\u001b[0m\u001b[0;34m\u001b[0m\u001b[0;34m\u001b[0m\u001b[0m\n\u001b[1;32m      3\u001b[0m \u001b[0;34m\u001b[0m\u001b[0m\n\u001b[1;32m      4\u001b[0m \u001b[0;32mfor\u001b[0m \u001b[0mn\u001b[0m \u001b[0;32min\u001b[0m \u001b[0mrange\u001b[0m\u001b[0;34m(\u001b[0m\u001b[0;36m3\u001b[0m\u001b[0;34m)\u001b[0m\u001b[0;34m:\u001b[0m\u001b[0;34m\u001b[0m\u001b[0;34m\u001b[0m\u001b[0m\n\u001b[1;32m      5\u001b[0m     \u001b[0;32mfor\u001b[0m \u001b[0mk\u001b[0m \u001b[0;32min\u001b[0m \u001b[0mrange\u001b[0m\u001b[0;34m(\u001b[0m\u001b[0;36m3\u001b[0m\u001b[0;34m)\u001b[0m\u001b[0;34m:\u001b[0m\u001b[0;34m\u001b[0m\u001b[0;34m\u001b[0m\u001b[0m\n",
      "\u001b[0;32m/usr/local/Cellar/jupyterlab/2.2.9/libexec/lib/python3.9/site-packages/numpy/__init__.py\u001b[0m in \u001b[0;36m<module>\u001b[0;34m\u001b[0m\n\u001b[1;32m    284\u001b[0m                     \"that provided NumPy.\\n{}\\n\".format(\n\u001b[1;32m    285\u001b[0m                         error_message))\n\u001b[0;32m--> 286\u001b[0;31m                 \u001b[0;32mraise\u001b[0m \u001b[0mRuntimeError\u001b[0m\u001b[0;34m(\u001b[0m\u001b[0mmsg\u001b[0m\u001b[0;34m)\u001b[0m\u001b[0;34m\u001b[0m\u001b[0;34m\u001b[0m\u001b[0m\n\u001b[0m\u001b[1;32m    287\u001b[0m     \u001b[0;32mdel\u001b[0m \u001b[0m_mac_os_check\u001b[0m\u001b[0;34m\u001b[0m\u001b[0;34m\u001b[0m\u001b[0m\n\u001b[1;32m    288\u001b[0m \u001b[0;34m\u001b[0m\u001b[0m\n",
      "\u001b[0;31mRuntimeError\u001b[0m: Polyfit sanity test emitted a warning, most likely due to using a buggy Accelerate backend. If you compiled yourself, see site.cfg.example for information. Otherwise report this to the vendor that provided NumPy.\nRankWarning: Polyfit may be poorly conditioned\n"
     ]
    }
   ],
   "source": [
    "import numpy as np\n",
    "xp = np.linspace(-1, 1, 10000) * 2 * np.pi\n",
    "\n",
    "for n in range(3):\n",
    "    for k in range(3):\n",
    "\n",
    "        order = 20*n+10*k+1\n",
    "        print(order)\n",
    "        z = np.polyfit(x,y,order)\n",
    "        p = np.poly1d(z)\n",
    "\n",
    "        ax[n,k].scatter(x,y,label = \"Real data\",s=1)\n",
    "        ax[n,k].plot(xp,p(xp),label = \"Polynomial with order={}\".format(order), color='C1')\n",
    "        ax[n,k].legend()\n",
    "        "
   ]
  },
  {
   "cell_type": "code",
   "execution_count": null,
   "metadata": {},
   "outputs": [],
   "source": []
  }
 ],
 "metadata": {
  "kernelspec": {
   "display_name": "Python 3",
   "language": "python",
   "name": "python3"
  },
  "language_info": {
   "codemirror_mode": {
    "name": "ipython",
    "version": 3
   },
   "file_extension": ".py",
   "mimetype": "text/x-python",
   "name": "python",
   "nbconvert_exporter": "python",
   "pygments_lexer": "ipython3",
   "version": "3.9.0"
  }
 },
 "nbformat": 4,
 "nbformat_minor": 4
}
